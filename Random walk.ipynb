{
 "cells": [
  {
   "cell_type": "markdown",
   "metadata": {},
   "source": [
    "# The Random Walk Problem:\n",
    "\n",
    "A drunk starts out from a lamppost in the middle of a street, taking steps of equal length either to the right or to the left with equal probability. Total number of steps taken is 10.\n",
    "Write a program to simulate the problem by considering a large number of similar drunk each taking 10 steps. Record the position (x) of each walker at the end and finally calculate the probability of finding the walker at a particular x."
   ]
  },
  {
   "cell_type": "markdown",
   "metadata": {},
   "source": [
    "## Algorithm\n",
    "\n",
    "1.Consider number of steps on the left to be n, number of steps to the right be m.\n",
    "\n",
    "2.Total number of steps N=10\n",
    "\n",
    "3.Choose N - random numbers $r_i$ between 0 and 1.\n",
    "\n",
    "4.If $r_i >= 0.5$, n $\\rightarrow$ n+1 (the walker moves left), else m $\\rightarrow$ m+1 (the walker moves right).\n",
    "\n",
    "5.Calculate $x_i$ = n-m, for say obs=1000 walkers(observations).\n",
    "\n",
    "6.Calculate s $\\leftarrow$ frequency of x in $x_i$ and hence the probability of each position (x) as P = $\\frac{s}{obs}$"
   ]
  },
  {
   "cell_type": "code",
   "execution_count": 35,
   "metadata": {},
   "outputs": [
    {
     "name": "stdout",
     "output_type": "stream",
     "text": [
      "Probability of finding walker at x=-10 is : 0.001\n",
      "Probability of finding walker at x=-8 is : 0.008\n",
      "Probability of finding walker at x=-6 is : 0.04\n",
      "Probability of finding walker at x=-4 is : 0.124\n",
      "Probability of finding walker at x=-2 is : 0.209\n",
      "Probability of finding walker at x=0 is : 0.255\n",
      "Probability of finding walker at x=2 is : 0.208\n",
      "Probability of finding walker at x=4 is : 0.118\n",
      "Probability of finding walker at x=6 is : 0.029\n",
      "Probability of finding walker at x=8 is : 0.008\n",
      "Probability of finding walker at x=10 is : 0.0\n"
     ]
    }
   ],
   "source": [
    "import numpy as np\n",
    "import matplotlib.pyplot as plt\n",
    "\n",
    "N=10\n",
    "a=[i for i in range(-N,N+1,2)]\n",
    "b=[]\n",
    "obs=1000\n",
    "j=0\n",
    "while j<obs:\n",
    "    n,m,x=0,0,0\n",
    "    for i in range(N):\n",
    "        r=np.random.random()\n",
    "        if r>=0.5:\n",
    "            n+=1\n",
    "        else:\n",
    "            m+=1\n",
    "    x=n-m\n",
    "    b.append(x)\n",
    "    j+=1\n",
    "\n",
    "Prob=[]\n",
    "for i in range(len(a)):\n",
    "    s=0\n",
    "    for j in range(len(b)):\n",
    "        if a[i]==b[j]:\n",
    "            s=s+1\n",
    "    p=s/len(b)\n",
    "    Prob.append(p)\n",
    "    print(\"Probability of finding walker at x=%d is :\"%a[i],p)    "
   ]
  },
  {
   "cell_type": "code",
   "execution_count": 36,
   "metadata": {},
   "outputs": [
    {
     "data": {
      "text/plain": [
       "Text(0.5, 1.0, 'Probability vs Position graph for N=10')"
      ]
     },
     "execution_count": 36,
     "metadata": {},
     "output_type": "execute_result"
    },
    {
     "data": {
      "image/png": "[encoded data removed]",
      "text/plain": [
       "<Figure size 432x288 with 1 Axes>"
      ]
     },
     "metadata": {
      "needs_background": "light"
     },
     "output_type": "display_data"
    }
   ],
   "source": [
    "A=np.array(a)\n",
    "P=np.array(Prob)\n",
    "\n",
    "plt.scatter(A,P)\n",
    "\n",
    "plt.xlabel(\"Position\")\n",
    "plt.ylabel(\"Probability\")\n",
    "plt.title(\"Probability vs Position graph for N=10\")"
   ]
  }
 ],
 "metadata": {
  "kernelspec": {
   "display_name": "Python 3",
   "language": "python",
   "name": "python3"
  },
  "language_info": {
   "codemirror_mode": {
    "name": "ipython",
    "version": 3
   },
   "file_extension": ".py",
   "mimetype": "text/x-python",
   "name": "python",
   "nbconvert_exporter": "python",
   "pygments_lexer": "ipython3",
   "version": "3.8.5"
  }
 },
 "nbformat": 4,
 "nbformat_minor": 4
}
