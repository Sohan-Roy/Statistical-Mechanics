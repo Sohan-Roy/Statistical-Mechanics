{
 "cells": [
  {
   "cell_type": "markdown",
   "metadata": {},
   "source": [
    "# Coin tossing:\n",
    "\n",
    "A fair coin is tossed thrice. Write a program to simulate this problem of flipping 3 coins to determine the probability of getting number of heads."
   ]
  },
  {
   "cell_type": "markdown",
   "metadata": {},
   "source": [
    "### Algorithm:\n",
    "\n",
    "1.If a coin is flipped thrice, possible no. of heads are 0,1,2 and 3. Assign these values as n(i), for i=0,1,2,3.\n",
    "\n",
    "2.Set up an initial counter c(i) for each n(i).\n",
    "\n",
    "3.Set up a loop for number of trials ftom 1 to nmax (no. of people carrying out the toss at a time).\n",
    "\n",
    "4.For each throw, generate a random number between 0.0 and 1.0. If r $\\ge$ 0.5, the result is head. Count the total number of heads (n1) in 3 flips.\n",
    "\n",
    "5.If n1=n(i), c(i)$\\leftarrow$c(i)+1\n",
    "\n",
    "6.Calculate the probability as P(i)=$\\frac{c(i)}{\\sum c(i)}$ for i=0 to 3."
   ]
  },
  {
   "cell_type": "markdown",
   "metadata": {},
   "source": [
    "### Code:"
   ]
  },
  {
   "cell_type": "code",
   "execution_count": 11,
   "metadata": {},
   "outputs": [
    {
     "name": "stdout",
     "output_type": "stream",
     "text": [
      "Number of observations : 500\n",
      "The probability of getting 0 heads: 0.12\n",
      "The probability of getting 1 heads: 0.406\n",
      "The probability of getting 2 heads: 0.35\n",
      "The probability of getting 3 heads: 0.124\n",
      " \n",
      "Number of observations : 1000\n",
      "The probability of getting 0 heads: 0.121\n",
      "The probability of getting 1 heads: 0.382\n",
      "The probability of getting 2 heads: 0.361\n",
      "The probability of getting 3 heads: 0.136\n",
      " \n",
      "Number of observations : 5000\n",
      "The probability of getting 0 heads: 0.1276\n",
      "The probability of getting 1 heads: 0.38\n",
      "The probability of getting 2 heads: 0.3686\n",
      "The probability of getting 3 heads: 0.1238\n",
      " \n"
     ]
    }
   ],
   "source": [
    "import numpy as np\n",
    "\n",
    "n=[0,1,2,3]\n",
    "c=[0 for i in range(4)]\n",
    "obs=0\n",
    "nmax = [500,1000,5000]\n",
    "\n",
    "for j in range(len(nmax)):\n",
    "    while obs<nmax[j]:\n",
    "        n1=0\n",
    "        for i in range(3):\n",
    "            r=np.random.random()\n",
    "            if r>=0.5:\n",
    "                n1+=1\n",
    "        c[n1]+=1\n",
    "        obs+=1\n",
    "    print(\"Number of observations :\", nmax[j])\n",
    "    s=0\n",
    "    for i in range(len(c)):\n",
    "        s=s+c[i]\n",
    "    for i in range(len(c)):\n",
    "        print(\"The probability of getting %d heads:\" %n[i],c[i]/s)\n",
    "    print(\" \")   "
   ]
  }
 ],
 "metadata": {
  "kernelspec": {
   "display_name": "Python 3",
   "language": "python",
   "name": "python3"
  },
  "language_info": {
   "codemirror_mode": {
    "name": "ipython",
    "version": 3
   },
   "file_extension": ".py",
   "mimetype": "text/x-python",
   "name": "python",
   "nbconvert_exporter": "python",
   "pygments_lexer": "ipython3",
   "version": "3.8.5"
  }
 },
 "nbformat": 4,
 "nbformat_minor": 4
}
