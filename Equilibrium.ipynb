{
 "cells": [
  {
   "cell_type": "markdown",
   "metadata": {},
   "source": [
    "# Approach to equilibrium:\n",
    "\n",
    "A box contains N particles. It is divided into two parts of equal areas. We then make a small hole in the partition between the two halves. Let the number of particles on left side be n (which gradually changes).\n",
    "\n",
    "(a) Write a program to compute the values of $<n>$ and $<n^2>$ after an initial time interval (sat t=1000 sec).\n",
    "\n",
    "(b) Plot $\\frac{n}{N}$ and $\\frac{<n>}{N}$ against time t.\n",
    "    \n",
    "(c) Calculate $\\frac{\\sigma}{N}$ where $\\sigma^2$ = $<n^2>-<n>^2$    "
   ]
  },
  {
   "cell_type": "markdown",
   "metadata": {},
   "source": [
    "### Algorithm:\n",
    "\n",
    "1.Initially (i.e. at t = 0) all particles are in the left half, n = N and the right half is empty.\n",
    "\n",
    "2.Generate a random number r between 0 and 1.\n",
    "\n",
    "3.If r $\\le \\frac{n}{N}$ , move the particle from left to right (n=n-1), otherwise n=n+1. \n",
    "\n",
    "4.Increase time by one unit and repeat the previous steps."
   ]
  },
  {
   "cell_type": "markdown",
   "metadata": {},
   "source": [
    "### Code:"
   ]
  },
  {
   "cell_type": "code",
   "execution_count": 30,
   "metadata": {},
   "outputs": [
    {
     "name": "stdout",
     "output_type": "stream",
     "text": [
      "Enter the value of N : 1000\n",
      "Values for N=1000 after attaining equilibrium :\n",
      "Mean of n, <n> = 500.4420884176835\n",
      "Mean of n squared, <n**2> = 250577.1730346069\n",
      "sigma = 11.614179900204917\n",
      "Deviation = 0.011614179900204916\n"
     ]
    },
    {
     "data": {
      "image/png": "[encoded data removed]",
      "text/plain": [
       "<Figure size 432x288 with 1 Axes>"
      ]
     },
     "metadata": {
      "needs_background": "light"
     },
     "output_type": "display_data"
    }
   ],
   "source": [
    "import numpy as np\n",
    "import matplotlib.pyplot as plt\n",
    "\n",
    "N=int(input(\"Enter the value of N : \"))\n",
    "T=N*10\n",
    "t=np.arange(0,T,1)\n",
    "\n",
    "n=N\n",
    "A=np.zeros(T)\n",
    "p=np.array(A)\n",
    "for i in range(T):\n",
    "    r=np.random.random()\n",
    "    if r<=(n/N):\n",
    "        n-=1\n",
    "    else:\n",
    "        n+=1\n",
    "    A[i] = n\n",
    "    p[i] = (n/N)\n",
    "eqt=int(len(t)/2)\n",
    "B=np.array(A[-eqt:-1])\n",
    "avgn = np.mean(B)\n",
    "avgn2 = np.mean(B**2)\n",
    "sigma = np.sqrt(avgn2-(avgn**2))\n",
    "dev=sigma/N\n",
    "\n",
    "print(f\"Values for N={N} after attaining equilibrium :\")\n",
    "print(\"Mean of n, <n> =\",avgn)\n",
    "print(\"Mean of n squared, <n**2> =\",avgn2)\n",
    "print(\"sigma =\",sigma)\n",
    "print(\"Deviation =\",dev)\n",
    "\n",
    "#Plotting\n",
    "plt.plot(t,p)\n",
    "plt.xlabel(\"Time step (t)\")\n",
    "plt.ylabel(\"<n>/N\")\n",
    "plt.grid(True)\n",
    "plt.axhline(0.5, color='r')\n",
    "plt.xlim(0,len(t))\n",
    "plt.ylim(0,1)\n",
    "plt.show()"
   ]
  }
 ],
 "metadata": {
  "kernelspec": {
   "display_name": "Python 3",
   "language": "python",
   "name": "python3"
  },
  "language_info": {
   "codemirror_mode": {
    "name": "ipython",
    "version": 3
   },
   "file_extension": ".py",
   "mimetype": "text/x-python",
   "name": "python",
   "nbconvert_exporter": "python",
   "pygments_lexer": "ipython3",
   "version": "3.8.5"
  }
 },
 "nbformat": 4,
 "nbformat_minor": 4
}
